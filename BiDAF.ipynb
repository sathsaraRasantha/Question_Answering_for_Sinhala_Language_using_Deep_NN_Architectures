{
  "nbformat": 4,
  "nbformat_minor": 0,
  "metadata": {
    "colab": {
      "name": "BiDAF.ipynb",
      "provenance": [],
      "authorship_tag": "ABX9TyN+j8obaOwON3zW60VZIDGp",
      "include_colab_link": true
    },
    "kernelspec": {
      "name": "python3",
      "display_name": "Python 3"
    }
  },
  "cells": [
    {
      "cell_type": "markdown",
      "metadata": {
        "id": "view-in-github",
        "colab_type": "text"
      },
      "source": [
        "<a href=\"https://colab.research.google.com/github/sathsaraRasantha/Question_Answering_for_Sinhala_Language_using_Deep_NN_Architectures/blob/main/BiDAF.ipynb\" target=\"_parent\"><img src=\"https://colab.research.google.com/assets/colab-badge.svg\" alt=\"Open In Colab\"/></a>"
      ]
    },
    {
      "cell_type": "code",
      "metadata": {
        "id": "vv6OaSNmRyJu",
        "outputId": "eb8202f8-8a3e-4753-efe1-f79c0f4f570e",
        "colab": {
          "base_uri": "https://localhost:8080/"
        }
      },
      "source": [
        "import re\n",
        "from nltk.stem import WordNetLemmatizer\n",
        "import numpy as np\n",
        "import matplotlib.pyplot as plt\n",
        "import nltk\n",
        "from string import punctuation\n",
        "from nltk.corpus import stopwords\n",
        "from nltk.tokenize import word_tokenize\n",
        "from nltk.stem import WordNetLemmatizer\n",
        "from nltk.tokenize import sent_tokenize\n",
        "from nltk import WordPunctTokenizer\n",
        "from nltk import wordnet\n",
        "from nltk.tokenize import word_tokenize\n",
        "import string\n",
        "\n",
        "import torch\n",
        "import numpy as np\n",
        "import pandas as pd\n",
        "import pickle\n",
        "import re, os, string, typing, gc, json\n",
        "import spacy\n",
        "from collections import Counter\n",
        "nlp = spacy.load('en')\n",
        "\n",
        "nltk.download('punkt')\n",
        "nltk.download('wordnet')\n",
        "nltk.download('stopwords')\n",
        "en_stop = set(nltk.corpus.stopwords.words('english'))"
      ],
      "execution_count": 1,
      "outputs": [
        {
          "output_type": "stream",
          "text": [
            "[nltk_data] Downloading package punkt to /root/nltk_data...\n",
            "[nltk_data]   Unzipping tokenizers/punkt.zip.\n",
            "[nltk_data] Downloading package wordnet to /root/nltk_data...\n",
            "[nltk_data]   Unzipping corpora/wordnet.zip.\n",
            "[nltk_data] Downloading package stopwords to /root/nltk_data...\n",
            "[nltk_data]   Unzipping corpora/stopwords.zip.\n"
          ],
          "name": "stdout"
        }
      ]
    },
    {
      "cell_type": "markdown",
      "metadata": {
        "id": "Pc-wakVcajOo"
      },
      "source": [
        "# **Build a list of dictionaries with ( context , question , label ) as keys**"
      ]
    },
    {
      "cell_type": "code",
      "metadata": {
        "id": "EWkE_ACWabnr"
      },
      "source": [
        "def parse_data(dataframe):\n",
        "  QA_list=[]\n",
        "\n",
        "  for i in range(0,len(dataframe['index'])):\n",
        "    QA_dict={}\n",
        "    QA_dict['id']=i\n",
        "    QA_dict['context']=dataframe['context_translated'][i]\n",
        "    QA_dict['question']=dataframe['question_translated'][i]\n",
        "    QA_dict['label']=[dataframe['answer_start'][0],dataframe['answer_end'][i]]\n",
        "    QA_list.append(QA_dict)\n",
        "  return QA_list"
      ],
      "execution_count": 2,
      "outputs": []
    },
    {
      "cell_type": "markdown",
      "metadata": {
        "id": "n-Edh52Vasxs"
      },
      "source": [
        "# **Function to pre-process paragraph of text**"
      ]
    },
    {
      "cell_type": "code",
      "metadata": {
        "id": "iIzV3jpGasF4"
      },
      "source": [
        "def preprocess_text(document):\n",
        "        # Remove all the special characters\n",
        "        document = re.sub(r'\\u200d', '', str(document))\n",
        "\n",
        "        # remove all single characters\n",
        "        document = re.sub(r'\\s+[a-zA-Z]\\s+', ' ', document)\n",
        "\n",
        "        # Remove single characters from the start\n",
        "        document = re.sub(r'\\^[a-zA-Z]\\s+', ' ', document)\n",
        "\n",
        "        # Substituting multiple spaces with single space\n",
        "        document = re.sub(r'\\s+', ' ', document, flags=re.I)\n",
        "\n",
        "        # Removing prefixed 'b'\n",
        "        document = re.sub(r'^b\\s+', '', document)\n",
        "        \n",
        "        #Replacing special worsds\n",
        "        #document = re.sub(r'නැකඩ්', \" \", document)\n",
        "        #document = re.sub(r'අඩීචි',\" \", document)\n",
        "        #document = re.sub(r'සොංටැං',\" \",document)\n",
        "        #document = re.sub(r'``', \" \", document)\n",
        "        #document = re.sub(r'[^\\w\\s]','',document)\n",
        "        #document = re.sub(r'\\_','',document)\n",
        "        # Converting to Lowercase\n",
        "        document = document.lower()\n",
        "\n",
        "        #removing digits from the corpus since FastText unable to embedd digits\n",
        "        #document= re.sub(r'\\b\\d+\\b', '', document)\n",
        "        \n",
        "\n",
        "        # Lemmatization\n",
        "        tokens = document.split()\n",
        "        tokens = [stemmer.lemmatize(word) for word in tokens]\n",
        "        tokens = [word for word in tokens if word not in en_stop]\n",
        "        tokens = [word for word in tokens if len(word) > 3]\n",
        "\n",
        "        preprocessed_text = ' '.join(tokens)\n",
        "\n",
        "        return preprocessed_text"
      ],
      "execution_count": 3,
      "outputs": []
    },
    {
      "cell_type": "markdown",
      "metadata": {
        "id": "_aAu7qJBbAia"
      },
      "source": [
        "# **Function to create list of Context, Question and Context+Question lists**"
      ]
    },
    {
      "cell_type": "code",
      "metadata": {
        "id": "qiFlvdn8a9OP"
      },
      "source": [
        "def gather_text_for_vocab(df):\n",
        "  context=[]\n",
        "  for row1 in df['context_translated']:\n",
        "    document1=row1\n",
        "    text1=preprocess_text(document1)\n",
        "    context.append(text1)\n",
        "\n",
        "  \n",
        "  question=[]\n",
        "  for row2 in df['question_translated']:\n",
        "    document2=row2\n",
        "    text2=preprocess_text(document2)\n",
        "    question.append(text2)\n",
        "\n",
        "  answer=[]\n",
        "  for row3 in df['text_translated']:\n",
        "    document3=row3\n",
        "    text3=preprocess_text(document3)\n",
        "    answer.append(text3)\n",
        "\n",
        "  table1 = str.maketrans('', '', string.punctuation)\n",
        "  stripped_context = [w.translate(table1) for w in context]\n",
        "\n",
        "  table2 = str.maketrans('', '', string.punctuation)\n",
        "  stripped_question = [w.translate(table2) for w in question]\n",
        "\n",
        "  table3 = str.maketrans('', '', string.punctuation)\n",
        "  stripped_answer = [w.translate(table2) for w in answer]\n",
        "\n",
        "  lis=stripped_context+stripped_question\n",
        "  return lis,stripped_context,stripped_question,stripped_answer"
      ],
      "execution_count": 4,
      "outputs": []
    },
    {
      "cell_type": "markdown",
      "metadata": {
        "id": "Kb3HJ8EQbLh5"
      },
      "source": [
        "# **Function to build vocabulary of words , word to index and index to word mapping**"
      ]
    },
    {
      "cell_type": "code",
      "metadata": {
        "id": "DNN_zHi_bQpW"
      },
      "source": [
        "def build_word_vocab(lis):\n",
        "   word_vocab=[]\n",
        "   for sentences in lis:\n",
        "      tokenized=word_tokenize(sentences)\n",
        "      word_vocab.append(tokenized)\n",
        "   \n",
        "   word2idx = {'__</e>__': 0, '__UNK__': 1} \n",
        "   idx2word={}\n",
        "   for line in lis: \n",
        "     words=word_tokenize(line)\n",
        "     for word in words:\n",
        "        if word not in word2idx: \n",
        "            word2idx[word] = len(word2idx)\n",
        "\n",
        "   for item in word2idx:\n",
        "     idx2word[word2idx[item]]=item\n",
        "\n",
        "\n",
        "   return word2idx, idx2word, word_vocab"
      ],
      "execution_count": 5,
      "outputs": []
    },
    {
      "cell_type": "markdown",
      "metadata": {
        "id": "NE5VGZQAbUVQ"
      },
      "source": [
        "\n",
        "# **Function to create character vocabulary and character to index mapping**"
      ]
    },
    {
      "cell_type": "code",
      "metadata": {
        "id": "OQiUmN4sba3q"
      },
      "source": [
        "def build_char_vocab(vocab_text):\n",
        "\n",
        "    chars = []\n",
        "    for sent in vocab_text:\n",
        "        for ch in sent:\n",
        "            chars.append(ch)\n",
        "\n",
        "    char_counter = Counter(chars)\n",
        "    char_vocab = sorted(char_counter, key=char_counter.get, reverse=True)\n",
        "    print(f\"raw-char-vocab: {len(char_vocab)}\")\n",
        "    high_freq_char = [char for char, count in char_counter.items() if count>=20]\n",
        "    char_vocab = list(set(char_vocab).intersection(set(high_freq_char)))\n",
        "    print(f\"char-vocab-intersect: {len(char_vocab)}\")\n",
        "    char_vocab.insert(0,'<unk>')\n",
        "    char_vocab.insert(1,'<pad>')\n",
        "    char2idx = {char:idx for idx, char in enumerate(char_vocab)}\n",
        "    print(f\"char2idx-length: {len(char2idx)}\")\n",
        "    \n",
        "    return char2idx, char_vocab"
      ],
      "execution_count": 6,
      "outputs": []
    },
    {
      "cell_type": "markdown",
      "metadata": {
        "id": "Cl_RZYlAblUz"
      },
      "source": [
        "# **Function to create id's for pre-processed context words**"
      ]
    },
    {
      "cell_type": "code",
      "metadata": {
        "id": "TNHHTiQXbkDW"
      },
      "source": [
        "def context_to_ids(text, word2idx):\n",
        "   \n",
        "\n",
        "    context_tokens = [w.text for w in nlp(text, disable=['parser','tagger','ner'])]\n",
        "    context_ids = [word2idx[word] for word in context_tokens]\n",
        "    \n",
        "    assert len(context_ids) == len(context_tokens)\n",
        "    return context_ids"
      ],
      "execution_count": 7,
      "outputs": []
    },
    {
      "cell_type": "markdown",
      "metadata": {
        "id": "cqEGFPJ4bynX"
      },
      "source": [
        "# **Function to create id's for pre-processed questions**"
      ]
    },
    {
      "cell_type": "code",
      "metadata": {
        "id": "JJMXtXiNb5E0"
      },
      "source": [
        "def question_to_ids(text, word2idx):\n",
        " \n",
        "\n",
        "    question_tokens = [w.text for w in nlp(text, disable=['parser','tagger','ner'])]\n",
        "    question_ids = [word2idx[word] for word in question_tokens]\n",
        "    \n",
        "    assert len(question_ids) == len(question_tokens)\n",
        "    return question_ids"
      ],
      "execution_count": 8,
      "outputs": []
    },
    {
      "cell_type": "code",
      "metadata": {
        "id": "QKmDnevXcAiJ"
      },
      "source": [
        "from google.colab import files\n",
        "uploaded = files.upload()"
      ],
      "execution_count": null,
      "outputs": []
    }
  ]
}