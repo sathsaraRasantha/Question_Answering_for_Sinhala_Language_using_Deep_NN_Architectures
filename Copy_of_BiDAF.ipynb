{
  "nbformat": 4,
  "nbformat_minor": 0,
  "metadata": {
    "colab": {
      "name": "Copy of BiDAF.ipynb",
      "provenance": [],
      "authorship_tag": "ABX9TyMLyMtUnDnEoYh2kAWkzdpe",
      "include_colab_link": true
    },
    "kernelspec": {
      "name": "python3",
      "display_name": "Python 3"
    }
  },
  "cells": [
    {
      "cell_type": "markdown",
      "metadata": {
        "id": "view-in-github",
        "colab_type": "text"
      },
      "source": [
        "<a href=\"https://colab.research.google.com/github/sathsaraRasantha/Question_Answering_for_Sinhala_Language_using_Deep_NN_Architectures/blob/main/Copy_of_BiDAF.ipynb\" target=\"_parent\"><img src=\"https://colab.research.google.com/assets/colab-badge.svg\" alt=\"Open In Colab\"/></a>"
      ]
    },
    {
      "cell_type": "code",
      "metadata": {
        "id": "vv6OaSNmRyJu",
        "colab": {
          "base_uri": "https://localhost:8080/"
        },
        "outputId": "df5c16b2-e104-42bc-edcd-0e065b0f6f15"
      },
      "source": [
        "import re\n",
        "from nltk.stem import WordNetLemmatizer\n",
        "import numpy as np\n",
        "import matplotlib.pyplot as plt\n",
        "import nltk\n",
        "from string import punctuation\n",
        "from nltk.corpus import stopwords\n",
        "from nltk.tokenize import word_tokenize\n",
        "from nltk.stem import WordNetLemmatizer\n",
        "from nltk.tokenize import sent_tokenize\n",
        "from nltk import WordPunctTokenizer\n",
        "from nltk import wordnet\n",
        "from nltk.tokenize import word_tokenize\n",
        "import string\n",
        "\n",
        "import torch\n",
        "import numpy as np\n",
        "import pandas as pd\n",
        "import pickle\n",
        "import re, os, string, typing, gc, json\n",
        "import spacy\n",
        "from collections import Counter\n",
        "\n",
        "\n",
        "\n",
        "stemmer = WordNetLemmatizer()\n",
        "\n",
        "nltk.download('punkt')\n",
        "nltk.download('wordnet')\n",
        "nltk.download('stopwords')\n",
        "en_stop = set(nltk.corpus.stopwords.words('english'))"
      ],
      "execution_count": null,
      "outputs": [
        {
          "output_type": "stream",
          "text": [
            "[nltk_data] Downloading package punkt to /root/nltk_data...\n",
            "[nltk_data]   Unzipping tokenizers/punkt.zip.\n",
            "[nltk_data] Downloading package wordnet to /root/nltk_data...\n",
            "[nltk_data]   Unzipping corpora/wordnet.zip.\n",
            "[nltk_data] Downloading package stopwords to /root/nltk_data...\n",
            "[nltk_data]   Unzipping corpora/stopwords.zip.\n"
          ],
          "name": "stdout"
        }
      ]
    },
    {
      "cell_type": "markdown",
      "metadata": {
        "id": "Pc-wakVcajOo"
      },
      "source": [
        "# **Build a list of dictionaries with ( context , question , label ) as keys**"
      ]
    },
    {
      "cell_type": "code",
      "metadata": {
        "id": "EWkE_ACWabnr"
      },
      "source": [
        "def parse_data(dataframe):\n",
        "  QA_list=[]\n",
        "\n",
        "  for i in range(0,len(dataframe['index'])):\n",
        "    QA_dict={}\n",
        "    QA_dict['id']=i\n",
        "    QA_dict['context']=dataframe['context_translated'][i]\n",
        "    QA_dict['question']=dataframe['question_translated'][i]\n",
        "    QA_dict['label']=[dataframe['answer_start'][0],dataframe['answer_end'][i]]\n",
        "    QA_list.append(QA_dict)\n",
        "  return QA_list"
      ],
      "execution_count": null,
      "outputs": []
    },
    {
      "cell_type": "markdown",
      "metadata": {
        "id": "n-Edh52Vasxs"
      },
      "source": [
        "# **Function to pre-process paragraph of text**"
      ]
    },
    {
      "cell_type": "code",
      "metadata": {
        "id": "iIzV3jpGasF4"
      },
      "source": [
        "\n",
        "def preprocess_text(document):\n",
        "        # Remove all the special characters\n",
        "        document = re.sub(r'\\u200d', '', str(document))\n",
        "\n",
        "        # remove all single characters\n",
        "        document = re.sub(r'\\s+[a-zA-Z]\\s+', ' ', document)\n",
        "\n",
        "        # Remove single characters from the start\n",
        "        document = re.sub(r'\\^[a-zA-Z]\\s+', ' ', document)\n",
        "\n",
        "        # Substituting multiple spaces with single space\n",
        "        document = re.sub(r'\\s+', ' ', document, flags=re.I)\n",
        "\n",
        "        # Removing prefixed 'b'\n",
        "        document = re.sub(r'^b\\s+', '', document)\n",
        "\n",
        "        # define punctuation\n",
        "        punctuations = '''!()-[]{};:'\"\\,<>./?@#$%^&*_~'''\n",
        "\n",
        "\n",
        "        preprocessed_text= \"\"\n",
        "        for char in document:\n",
        "          if char not in punctuations:\n",
        "              preprocessed_text = preprocessed_text+ char\n",
        "        \n",
        "        return preprocessed_text"
      ],
      "execution_count": null,
      "outputs": []
    },
    {
      "cell_type": "markdown",
      "metadata": {
        "id": "_aAu7qJBbAia"
      },
      "source": [
        "# **Function to create list of Context, Question and Context+Question lists**"
      ]
    },
    {
      "cell_type": "code",
      "metadata": {
        "id": "qiFlvdn8a9OP"
      },
      "source": [
        "def gather_text_for_vocab(df):\n",
        "  context=[]\n",
        "  for row1 in df['context_translated']:\n",
        "    document1=row1\n",
        "    text1=preprocess_text(document1)\n",
        "    context.append(text1)\n",
        "\n",
        "  \n",
        "  question=[]\n",
        "  for row2 in df['question_translated']:\n",
        "    document2=row2\n",
        "    text2=preprocess_text(document2)\n",
        "    question.append(text2)\n",
        "\n",
        "  answer=[]\n",
        "  for row3 in df['text_translated']:\n",
        "    document3=row3\n",
        "    text3=preprocess_text(document3)\n",
        "    answer.append(text3)\n",
        "\n",
        "  lis=context+question\n",
        "  return lis,context,question,answer"
      ],
      "execution_count": null,
      "outputs": []
    },
    {
      "cell_type": "markdown",
      "metadata": {
        "id": "Kb3HJ8EQbLh5"
      },
      "source": [
        "# **Function to build vocabulary of words , word to index and index to word mapping**"
      ]
    },
    {
      "cell_type": "code",
      "metadata": {
        "id": "DNN_zHi_bQpW"
      },
      "source": [
        "def build_word_vocab(lis):\n",
        "   sentence_vocab=[]\n",
        "   for sentences in lis:\n",
        "      tokenized=sentences.split()\n",
        "      sentence_vocab.append(tokenized)\n",
        "   \n",
        "   word2idx = {'__</e>__': 0, '__UNK__': 1} \n",
        "   idx2word={}\n",
        "   word_vocab=[]\n",
        "   for line in lis: \n",
        "     words=line.split()\n",
        "     for word in words:\n",
        "        if word not in word2idx: \n",
        "          word2idx[word] = len(word2idx)\n",
        "        if word not in word_vocab:\n",
        "          word_vocab.append(word)\n",
        "\n",
        "\n",
        "   for item in word2idx:\n",
        "     idx2word[word2idx[item]]=item\n",
        "\n",
        "\n",
        "   return word2idx, idx2word, word_vocab"
      ],
      "execution_count": 78,
      "outputs": []
    },
    {
      "cell_type": "markdown",
      "metadata": {
        "id": "NE5VGZQAbUVQ"
      },
      "source": [
        "\n",
        "# **Function to create character vocabulary and character to index mapping**"
      ]
    },
    {
      "cell_type": "code",
      "metadata": {
        "id": "OQiUmN4sba3q"
      },
      "source": [
        "def build_char_vocab(vocab_text):\n",
        "\n",
        "    chars = []\n",
        "    for sent in vocab_text:\n",
        "        for ch in sent:\n",
        "            chars.append(ch)\n",
        "\n",
        "    char_counter = Counter(chars)\n",
        "    char_vocab = sorted(char_counter, key=char_counter.get, reverse=True)\n",
        "    print(f\"raw-char-vocab: {len(char_vocab)}\")\n",
        "    high_freq_char = [char for char, count in char_counter.items() if count>=20]\n",
        "    char_vocab = list(set(char_vocab).intersection(set(high_freq_char)))\n",
        "    print(f\"char-vocab-intersect: {len(char_vocab)}\")\n",
        "    char_vocab.insert(0,'<unk>')\n",
        "    char_vocab.insert(1,'<pad>')\n",
        "    char2idx = {char:idx for idx, char in enumerate(char_vocab)}\n",
        "    print(f\"char2idx-length: {len(char2idx)}\")\n",
        "    \n",
        "    return char2idx, char_vocab"
      ],
      "execution_count": null,
      "outputs": []
    },
    {
      "cell_type": "markdown",
      "metadata": {
        "id": "Cl_RZYlAblUz"
      },
      "source": [
        "# **Function to create id's for pre-processed context words**"
      ]
    },
    {
      "cell_type": "code",
      "metadata": {
        "id": "TNHHTiQXbkDW"
      },
      "source": [
        "def context_to_ids(text, word2idx):\n",
        "   \n",
        "    context_tokens=text.split()\n",
        "    # for paragraph in stripped:\n",
        "    #     tokenized=word_tokenize(paragraph)\n",
        "    #     context_tokens.append(tokenized)\n",
        "    \n",
        "    context_ids = [word2idx[word] for word in context_tokens]\n",
        "    \n",
        "    assert len(context_ids) == len(context_tokens)\n",
        "    return context_ids"
      ],
      "execution_count": null,
      "outputs": []
    },
    {
      "cell_type": "markdown",
      "metadata": {
        "id": "cqEGFPJ4bynX"
      },
      "source": [
        "# **Function to create id's for pre-processed questions**"
      ]
    },
    {
      "cell_type": "code",
      "metadata": {
        "id": "JJMXtXiNb5E0"
      },
      "source": [
        "def question_to_ids(text, word2idx):\n",
        " \n",
        "\n",
        "    question_tokens=text.split()\n",
        "    question_ids = [word2idx[word] for word in question_tokens]\n",
        "    \n",
        "    assert len(question_ids) == len(question_tokens)\n",
        "    return question_ids"
      ],
      "execution_count": null,
      "outputs": []
    },
    {
      "cell_type": "markdown",
      "metadata": {
        "id": "lrUlwrawYvY-"
      },
      "source": [
        "# **Function to create id's for answers**"
      ]
    },
    {
      "cell_type": "code",
      "metadata": {
        "id": "7U6plP3XYujw"
      },
      "source": [
        "def answer_to_ids(text, word2idx):\n",
        " \n",
        "\n",
        "    answer_tokens=text.split()\n",
        "    answer_ids = [word2idx[word] for word in answer_tokens]\n",
        "    \n",
        "    assert len(answer_ids) == len(answer_tokens)\n",
        "    return answer_ids"
      ],
      "execution_count": null,
      "outputs": []
    },
    {
      "cell_type": "code",
      "metadata": {
        "id": "QKmDnevXcAiJ",
        "colab": {
          "resources": {
            "http://localhost:8080/nbextensions/google.colab/files.js": {
              "data": "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",
              "ok": true,
              "headers": [
                [
                  "content-type",
                  "application/javascript"
                ]
              ],
              "status": 200,
              "status_text": ""
            }
          },
          "base_uri": "https://localhost:8080/",
          "height": 73
        },
        "outputId": "57cbaf77-6477-4684-b423-747108dc40c9"
      },
      "source": [
        "from google.colab import files\n",
        "uploaded = files.upload()"
      ],
      "execution_count": 11,
      "outputs": [
        {
          "output_type": "display_data",
          "data": {
            "text/html": [
              "\n",
              "     <input type=\"file\" id=\"files-7305173f-3be7-4cc8-9ee5-e8327aa707b9\" name=\"files[]\" multiple disabled\n",
              "        style=\"border:none\" />\n",
              "     <output id=\"result-7305173f-3be7-4cc8-9ee5-e8327aa707b9\">\n",
              "      Upload widget is only available when the cell has been executed in the\n",
              "      current browser session. Please rerun this cell to enable.\n",
              "      </output>\n",
              "      <script src=\"/nbextensions/google.colab/files.js\"></script> "
            ],
            "text/plain": [
              "<IPython.core.display.HTML object>"
            ]
          },
          "metadata": {
            "tags": []
          }
        },
        {
          "output_type": "stream",
          "text": [
            "Saving partially_cleaned.csv to partially_cleaned (1).csv\n"
          ],
          "name": "stdout"
        }
      ]
    },
    {
      "cell_type": "code",
      "metadata": {
        "id": "4Wjubr4STig9",
        "colab": {
          "resources": {
            "http://localhost:8080/nbextensions/google.colab/files.js": {
              "data": "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",
              "ok": true,
              "headers": [
                [
                  "content-type",
                  "application/javascript"
                ]
              ],
              "status": 200,
              "status_text": ""
            }
          },
          "base_uri": "https://localhost:8080/",
          "height": 73
        },
        "outputId": "b808e41b-2a33-435b-fe03-68f414b5e932"
      },
      "source": [
        "from google.colab import files\n",
        "uploaded = files.upload()"
      ],
      "execution_count": 12,
      "outputs": [
        {
          "output_type": "display_data",
          "data": {
            "text/html": [
              "\n",
              "     <input type=\"file\" id=\"files-38a427ce-5dd9-4c4b-8674-acee69c0497c\" name=\"files[]\" multiple disabled\n",
              "        style=\"border:none\" />\n",
              "     <output id=\"result-38a427ce-5dd9-4c4b-8674-acee69c0497c\">\n",
              "      Upload widget is only available when the cell has been executed in the\n",
              "      current browser session. Please rerun this cell to enable.\n",
              "      </output>\n",
              "      <script src=\"/nbextensions/google.colab/files.js\"></script> "
            ],
            "text/plain": [
              "<IPython.core.display.HTML object>"
            ]
          },
          "metadata": {
            "tags": []
          }
        },
        {
          "output_type": "stream",
          "text": [
            "Saving english_sinhala_combined.csv to english_sinhala_combined.csv\n"
          ],
          "name": "stdout"
        }
      ]
    },
    {
      "cell_type": "code",
      "metadata": {
        "id": "BHnC5RwGZkqB",
        "colab": {
          "base_uri": "https://localhost:8080/",
          "height": 406
        },
        "outputId": "21c2a801-7ddc-415f-8e78-fbb96ae685fb"
      },
      "source": [
        "data=pd.read_csv(\"english_sinhala_combined.csv\")\n",
        "data=data.drop(['Unnamed: 0',\t'context',\t'question',\t'text'\t],axis=1)\n",
        "data"
      ],
      "execution_count": 13,
      "outputs": [
        {
          "output_type": "execute_result",
          "data": {
            "text/html": [
              "<div>\n",
              "<style scoped>\n",
              "    .dataframe tbody tr th:only-of-type {\n",
              "        vertical-align: middle;\n",
              "    }\n",
              "\n",
              "    .dataframe tbody tr th {\n",
              "        vertical-align: top;\n",
              "    }\n",
              "\n",
              "    .dataframe thead th {\n",
              "        text-align: right;\n",
              "    }\n",
              "</style>\n",
              "<table border=\"1\" class=\"dataframe\">\n",
              "  <thead>\n",
              "    <tr style=\"text-align: right;\">\n",
              "      <th></th>\n",
              "      <th>context_translated</th>\n",
              "      <th>question_translated</th>\n",
              "      <th>text_translated</th>\n",
              "    </tr>\n",
              "  </thead>\n",
              "  <tbody>\n",
              "    <tr>\n",
              "      <th>0</th>\n",
              "      <td>උතුරු අත්ලාන්තික් සාගරයේ බොස්ටන්හි වෙරළබඩ පිහි...</td>\n",
              "      <td>බොස්ටන් පිහිටා ඇත්තේ කුමන වෙරළ තීරයේද?</td>\n",
              "      <td>උතුරු අත්ලාන්තික්</td>\n",
              "    </tr>\n",
              "    <tr>\n",
              "      <th>1</th>\n",
              "      <td>2002 දී ප්‍රදර්ශනය ආරම්භ වූ දා සිට, අයිඩල් ජයග...</td>\n",
              "      <td>ඇමරිකානු අයිඩල් තරඟකරු ක්‍රිස් ඩොට්‍රි කුමන ප්...</td>\n",
              "      <td>උතුරු කැරොලිනාව</td>\n",
              "    </tr>\n",
              "    <tr>\n",
              "      <th>2</th>\n",
              "      <td>3 වන ශතවර්ෂයේ මැද භාගයේ සිට ජර්මානු ගෝත්‍රිකයන...</td>\n",
              "      <td>7 වන සියවසේ ඉදිකරන ලද දේ</td>\n",
              "      <td>රෝම බලකොටුවේ බිත්ති ඇතුළත පල්ලියක් ඉදිකරන ලදි</td>\n",
              "    </tr>\n",
              "    <tr>\n",
              "      <th>3</th>\n",
              "      <td>රෝම බලකොටුවේ බිත්ති ඇතුළත පල්ලියක් ඉදිකරන ලදි ...</td>\n",
              "      <td>90 දශකයේ දී කැනේ විසින් සාදන ලද බීට්ස් කවුද?</td>\n",
              "      <td>දේශීය කලාකරුවන්</td>\n",
              "    </tr>\n",
              "    <tr>\n",
              "      <th>4</th>\n",
              "      <td>ටුවාලුආන් භාෂාව සහ ඉංග්‍රීසි යනු ටුවාලු හි ජාත...</td>\n",
              "      <td>ඉංග්‍රීසි හැරුණු විට ටුවාලු හි ජාතික භාෂාව කුම...</td>\n",
              "      <td>ටුවාලුවාන්</td>\n",
              "    </tr>\n",
              "    <tr>\n",
              "      <th>...</th>\n",
              "      <td>...</td>\n",
              "      <td>...</td>\n",
              "      <td>...</td>\n",
              "    </tr>\n",
              "    <tr>\n",
              "      <th>19995</th>\n",
              "      <td>දේශපාලන පක්ෂයක අපේක්ෂකයින් පිහිටුවීමට, සාමාජික...</td>\n",
              "      <td>ලිබරල් ප්‍රජාතන්ත්‍රවාදයට රාජ්‍යයක් දක්වන සහයෝ...</td>\n",
              "      <td>පිහිටුවීමට, සාමාජිකත්වය ප්‍රකාශ කිරීමට හෝ උද් ...</td>\n",
              "    </tr>\n",
              "    <tr>\n",
              "      <th>19996</th>\n",
              "      <td>පැරණි ඉංග්‍රීසි භාෂාවෙන් ලතින් භාෂාවෙන් යම් නි...</td>\n",
              "      <td>ලතින් හෝඩිය හඳුන්වාදීමට පෙර පැරණි ඉංග්‍රීසි ලි...</td>\n",
              "      <td>රූනික් පද්ධතිය</td>\n",
              "    </tr>\n",
              "    <tr>\n",
              "      <th>19997</th>\n",
              "      <td>රූනික් පද්ධතිය... ඇරිස්ටෝෆනේස්ගේ නාට්‍ය ග්‍රීක...</td>\n",
              "      <td>ප්ලේටෝ සහ ඇරිස්ටෝටල් ලියුවේ කුමන ආකාරයේ සාහිත්...</td>\n",
              "      <td>දාර්ශනික පා</td>\n",
              "    </tr>\n",
              "    <tr>\n",
              "      <th>19998</th>\n",
              "      <td>ආරම්භක හා අවසන් දිනයන් දළ වශයෙන් දකුණු අර්ධගෝල...</td>\n",
              "      <td>දකුණු අර්ධගෝලයේ කුමන කාල පරිච්ඡේදයේදී චිලී ප්‍...</td>\n",
              "      <td>ගිම්හානය</td>\n",
              "    </tr>\n",
              "    <tr>\n",
              "      <th>19999</th>\n",
              "      <td></td>\n",
              "      <td>NaN</td>\n",
              "      <td>NaN</td>\n",
              "    </tr>\n",
              "  </tbody>\n",
              "</table>\n",
              "<p>20000 rows × 3 columns</p>\n",
              "</div>"
            ],
            "text/plain": [
              "                                      context_translated  ...                                    text_translated\n",
              "0      උතුරු අත්ලාන්තික් සාගරයේ බොස්ටන්හි වෙරළබඩ පිහි...  ...                                  උතුරු අත්ලාන්තික්\n",
              "1      2002 දී ප්‍රදර්ශනය ආරම්භ වූ දා සිට, අයිඩල් ජයග...  ...                                    උතුරු කැරොලිනාව\n",
              "2      3 වන ශතවර්ෂයේ මැද භාගයේ සිට ජර්මානු ගෝත්‍රිකයන...  ...      රෝම බලකොටුවේ බිත්ති ඇතුළත පල්ලියක් ඉදිකරන ලදි\n",
              "3      රෝම බලකොටුවේ බිත්ති ඇතුළත පල්ලියක් ඉදිකරන ලදි ...  ...                                    දේශීය කලාකරුවන්\n",
              "4      ටුවාලුආන් භාෂාව සහ ඉංග්‍රීසි යනු ටුවාලු හි ජාත...  ...                                         ටුවාලුවාන්\n",
              "...                                                  ...  ...                                                ...\n",
              "19995  දේශපාලන පක්ෂයක අපේක්ෂකයින් පිහිටුවීමට, සාමාජික...  ...  පිහිටුවීමට, සාමාජිකත්වය ප්‍රකාශ කිරීමට හෝ උද් ...\n",
              "19996  පැරණි ඉංග්‍රීසි භාෂාවෙන් ලතින් භාෂාවෙන් යම් නි...  ...                                     රූනික් පද්ධතිය\n",
              "19997  රූනික් පද්ධතිය... ඇරිස්ටෝෆනේස්ගේ නාට්‍ය ග්‍රීක...  ...                                        දාර්ශනික පා\n",
              "19998  ආරම්භක හා අවසන් දිනයන් දළ වශයෙන් දකුණු අර්ධගෝල...  ...                                           ගිම්හානය\n",
              "19999                                                     ...                                                NaN\n",
              "\n",
              "[20000 rows x 3 columns]"
            ]
          },
          "metadata": {
            "tags": []
          },
          "execution_count": 13
        }
      ]
    },
    {
      "cell_type": "code",
      "metadata": {
        "id": "F-bs0ABMQfMs",
        "colab": {
          "base_uri": "https://localhost:8080/",
          "height": 406
        },
        "outputId": "cb97c086-3cb6-49f6-9282-c71a31c85ed5"
      },
      "source": [
        "df=pd.read_csv(\"partially_cleaned.csv\")\n",
        "df=df.drop(['Unnamed: 0'],axis=1)\n",
        "df"
      ],
      "execution_count": 14,
      "outputs": [
        {
          "output_type": "execute_result",
          "data": {
            "text/html": [
              "<div>\n",
              "<style scoped>\n",
              "    .dataframe tbody tr th:only-of-type {\n",
              "        vertical-align: middle;\n",
              "    }\n",
              "\n",
              "    .dataframe tbody tr th {\n",
              "        vertical-align: top;\n",
              "    }\n",
              "\n",
              "    .dataframe thead th {\n",
              "        text-align: right;\n",
              "    }\n",
              "</style>\n",
              "<table border=\"1\" class=\"dataframe\">\n",
              "  <thead>\n",
              "    <tr style=\"text-align: right;\">\n",
              "      <th></th>\n",
              "      <th>index</th>\n",
              "      <th>context_translated</th>\n",
              "      <th>question_translated</th>\n",
              "      <th>text_translated</th>\n",
              "      <th>answer_start</th>\n",
              "      <th>answer_end</th>\n",
              "    </tr>\n",
              "  </thead>\n",
              "  <tbody>\n",
              "    <tr>\n",
              "      <th>0</th>\n",
              "      <td>0</td>\n",
              "      <td>උතුරු අත්ලාන්තික් සාගරයේ බොස්ටන්හි වෙරළබඩ පිහි...</td>\n",
              "      <td>බොස්ටන් පිහිටා ඇත්තේ කුමන වෙරළ තීරයේද</td>\n",
              "      <td>උතුරු අත්ලාන්තික්</td>\n",
              "      <td>0.0</td>\n",
              "      <td>17.0</td>\n",
              "    </tr>\n",
              "    <tr>\n",
              "      <th>1</th>\n",
              "      <td>4</td>\n",
              "      <td>ටුවාලුආන් භාෂාව සහ ඉංග්රීසි යනු ටුවාලු හි ජාති...</td>\n",
              "      <td>ඉංග්රීසි හැරුණු විට ටුවාලු හි ජාතික භාෂාව කුමක්ද</td>\n",
              "      <td>ටුවාලුවාන්</td>\n",
              "      <td>56.0</td>\n",
              "      <td>66.0</td>\n",
              "    </tr>\n",
              "    <tr>\n",
              "      <th>2</th>\n",
              "      <td>8</td>\n",
              "      <td>ජේන් ඔස්ටන් ප්රධාන තදාසන්න ප්රදේශ අතර නිරිත දෙ...</td>\n",
              "      <td>රිච්මන්ඩ් හි නිරිතදිග තදාසන්න ප්රදේශය කුමක්ද</td>\n",
              "      <td>මිඩ්ලෝතියන්</td>\n",
              "      <td>51.0</td>\n",
              "      <td>62.0</td>\n",
              "    </tr>\n",
              "    <tr>\n",
              "      <th>3</th>\n",
              "      <td>9</td>\n",
              "      <td>දෙවන ලෝක යුද්ධයෙන් පසු ජර්මනිය මිත්ර පාක්ෂිකයන...</td>\n",
              "      <td>දෙවන ලෝක යුද්ධයෙන් පසු ජර්මනියේ මුලින් ප්රාන්ත...</td>\n",
              "      <td>හත</td>\n",
              "      <td>326.0</td>\n",
              "      <td>328.0</td>\n",
              "    </tr>\n",
              "    <tr>\n",
              "      <th>4</th>\n",
              "      <td>21</td>\n",
              "      <td>නැපෝලියන් පශ්චාත් විප්ලවවාදී ප්රංශයේ අවනීතිය ස...</td>\n",
              "      <td>දහස් ගණනකට යුද්ධය හා මරණය පිළිබඳ අපේක්ෂාවෙන් න...</td>\n",
              "      <td>ඔහුගේ විවේචකයෝ</td>\n",
              "      <td>157.0</td>\n",
              "      <td>171.0</td>\n",
              "    </tr>\n",
              "    <tr>\n",
              "      <th>...</th>\n",
              "      <td>...</td>\n",
              "      <td>...</td>\n",
              "      <td>...</td>\n",
              "      <td>...</td>\n",
              "      <td>...</td>\n",
              "      <td>...</td>\n",
              "    </tr>\n",
              "    <tr>\n",
              "      <th>7570</th>\n",
              "      <td>16375</td>\n",
              "      <td>2003 දී ඉම්පීරියල් ආයතනයට ප්රිවි කවුන්සිලය විස...</td>\n",
              "      <td>නැනෝ තාක්ෂණය සඳහා ලන්ඩන් මධ්යස්ථානය පිහිටුවන ල...</td>\n",
              "      <td>2003</td>\n",
              "      <td>0.0</td>\n",
              "      <td>4.0</td>\n",
              "    </tr>\n",
              "    <tr>\n",
              "      <th>7571</th>\n",
              "      <td>16378</td>\n",
              "      <td>18 19 සහ 20 වන සියවස් වලදී බොහෝ ප්රාන්තවල වැරද...</td>\n",
              "      <td>එක්සත් ජනපදයේ සුදු ජාතිකයින් සහ ආසියානුවන් අතර...</td>\n",
              "      <td>සුදු නීති සම්පාදකයින් 1950 සහ යුරෝපීය හා ආසියා...</td>\n",
              "      <td>376.0</td>\n",
              "      <td>475.0</td>\n",
              "    </tr>\n",
              "    <tr>\n",
              "      <th>7572</th>\n",
              "      <td>16379</td>\n",
              "      <td>ඇමරිකා එක්සත් ජනපදයේ ප්රාථමික අගනුවර ලෙස රිච්ම...</td>\n",
              "      <td>ඩේවිස් මන්දිරයේ තවත් නමක් කුමක්ද</td>\n",
              "      <td>සම්මේලනයේ ධවල මන්දිරය</td>\n",
              "      <td>395.0</td>\n",
              "      <td>416.0</td>\n",
              "    </tr>\n",
              "    <tr>\n",
              "      <th>7573</th>\n",
              "      <td>16380</td>\n",
              "      <td>ඉහත උදාහරණයේ දී අනන්යතාවය සහ භ්රමණයන් උප සමූහය...</td>\n",
              "      <td>භ්රමණයන් දෙකකින් සමන්විත වන්නේ කුමක්ද</td>\n",
              "      <td>භ්රමණය</td>\n",
              "      <td>29.0</td>\n",
              "      <td>35.0</td>\n",
              "    </tr>\n",
              "    <tr>\n",
              "      <th>7574</th>\n",
              "      <td>16383</td>\n",
              "      <td>2008 මාර්තු සිට 2008 මැයි දක්වා 2008 අගෝස්තු ද...</td>\n",
              "      <td>NaN</td>\n",
              "      <td>NaN</td>\n",
              "      <td>NaN</td>\n",
              "      <td>NaN</td>\n",
              "    </tr>\n",
              "  </tbody>\n",
              "</table>\n",
              "<p>7575 rows × 6 columns</p>\n",
              "</div>"
            ],
            "text/plain": [
              "      index  ... answer_end\n",
              "0         0  ...       17.0\n",
              "1         4  ...       66.0\n",
              "2         8  ...       62.0\n",
              "3         9  ...      328.0\n",
              "4        21  ...      171.0\n",
              "...     ...  ...        ...\n",
              "7570  16375  ...        4.0\n",
              "7571  16378  ...      475.0\n",
              "7572  16379  ...      416.0\n",
              "7573  16380  ...       35.0\n",
              "7574  16383  ...        NaN\n",
              "\n",
              "[7575 rows x 6 columns]"
            ]
          },
          "metadata": {
            "tags": []
          },
          "execution_count": 14
        }
      ]
    },
    {
      "cell_type": "code",
      "metadata": {
        "colab": {
          "base_uri": "https://localhost:8080/",
          "height": 406
        },
        "id": "xt07v5VPU1nL",
        "outputId": "da466184-5135-4315-c331-1818bcfcd01f"
      },
      "source": [
        "df=df.rename(columns={\"index\": \"id\", \"context_translated\": \"context\",\"question_translated\":\"question\",\"text_translated\":\"answer\",\"answer_start\":\"start\",\"answer_end\":\"end\"})\n",
        "df"
      ],
      "execution_count": 15,
      "outputs": [
        {
          "output_type": "execute_result",
          "data": {
            "text/html": [
              "<div>\n",
              "<style scoped>\n",
              "    .dataframe tbody tr th:only-of-type {\n",
              "        vertical-align: middle;\n",
              "    }\n",
              "\n",
              "    .dataframe tbody tr th {\n",
              "        vertical-align: top;\n",
              "    }\n",
              "\n",
              "    .dataframe thead th {\n",
              "        text-align: right;\n",
              "    }\n",
              "</style>\n",
              "<table border=\"1\" class=\"dataframe\">\n",
              "  <thead>\n",
              "    <tr style=\"text-align: right;\">\n",
              "      <th></th>\n",
              "      <th>id</th>\n",
              "      <th>context</th>\n",
              "      <th>question</th>\n",
              "      <th>answer</th>\n",
              "      <th>start</th>\n",
              "      <th>end</th>\n",
              "    </tr>\n",
              "  </thead>\n",
              "  <tbody>\n",
              "    <tr>\n",
              "      <th>0</th>\n",
              "      <td>0</td>\n",
              "      <td>උතුරු අත්ලාන්තික් සාගරයේ බොස්ටන්හි වෙරළබඩ පිහි...</td>\n",
              "      <td>බොස්ටන් පිහිටා ඇත්තේ කුමන වෙරළ තීරයේද</td>\n",
              "      <td>උතුරු අත්ලාන්තික්</td>\n",
              "      <td>0.0</td>\n",
              "      <td>17.0</td>\n",
              "    </tr>\n",
              "    <tr>\n",
              "      <th>1</th>\n",
              "      <td>4</td>\n",
              "      <td>ටුවාලුආන් භාෂාව සහ ඉංග්රීසි යනු ටුවාලු හි ජාති...</td>\n",
              "      <td>ඉංග්රීසි හැරුණු විට ටුවාලු හි ජාතික භාෂාව කුමක්ද</td>\n",
              "      <td>ටුවාලුවාන්</td>\n",
              "      <td>56.0</td>\n",
              "      <td>66.0</td>\n",
              "    </tr>\n",
              "    <tr>\n",
              "      <th>2</th>\n",
              "      <td>8</td>\n",
              "      <td>ජේන් ඔස්ටන් ප්රධාන තදාසන්න ප්රදේශ අතර නිරිත දෙ...</td>\n",
              "      <td>රිච්මන්ඩ් හි නිරිතදිග තදාසන්න ප්රදේශය කුමක්ද</td>\n",
              "      <td>මිඩ්ලෝතියන්</td>\n",
              "      <td>51.0</td>\n",
              "      <td>62.0</td>\n",
              "    </tr>\n",
              "    <tr>\n",
              "      <th>3</th>\n",
              "      <td>9</td>\n",
              "      <td>දෙවන ලෝක යුද්ධයෙන් පසු ජර්මනිය මිත්ර පාක්ෂිකයන...</td>\n",
              "      <td>දෙවන ලෝක යුද්ධයෙන් පසු ජර්මනියේ මුලින් ප්රාන්ත...</td>\n",
              "      <td>හත</td>\n",
              "      <td>326.0</td>\n",
              "      <td>328.0</td>\n",
              "    </tr>\n",
              "    <tr>\n",
              "      <th>4</th>\n",
              "      <td>21</td>\n",
              "      <td>නැපෝලියන් පශ්චාත් විප්ලවවාදී ප්රංශයේ අවනීතිය ස...</td>\n",
              "      <td>දහස් ගණනකට යුද්ධය හා මරණය පිළිබඳ අපේක්ෂාවෙන් න...</td>\n",
              "      <td>ඔහුගේ විවේචකයෝ</td>\n",
              "      <td>157.0</td>\n",
              "      <td>171.0</td>\n",
              "    </tr>\n",
              "    <tr>\n",
              "      <th>...</th>\n",
              "      <td>...</td>\n",
              "      <td>...</td>\n",
              "      <td>...</td>\n",
              "      <td>...</td>\n",
              "      <td>...</td>\n",
              "      <td>...</td>\n",
              "    </tr>\n",
              "    <tr>\n",
              "      <th>7570</th>\n",
              "      <td>16375</td>\n",
              "      <td>2003 දී ඉම්පීරියල් ආයතනයට ප්රිවි කවුන්සිලය විස...</td>\n",
              "      <td>නැනෝ තාක්ෂණය සඳහා ලන්ඩන් මධ්යස්ථානය පිහිටුවන ල...</td>\n",
              "      <td>2003</td>\n",
              "      <td>0.0</td>\n",
              "      <td>4.0</td>\n",
              "    </tr>\n",
              "    <tr>\n",
              "      <th>7571</th>\n",
              "      <td>16378</td>\n",
              "      <td>18 19 සහ 20 වන සියවස් වලදී බොහෝ ප්රාන්තවල වැරද...</td>\n",
              "      <td>එක්සත් ජනපදයේ සුදු ජාතිකයින් සහ ආසියානුවන් අතර...</td>\n",
              "      <td>සුදු නීති සම්පාදකයින් 1950 සහ යුරෝපීය හා ආසියා...</td>\n",
              "      <td>376.0</td>\n",
              "      <td>475.0</td>\n",
              "    </tr>\n",
              "    <tr>\n",
              "      <th>7572</th>\n",
              "      <td>16379</td>\n",
              "      <td>ඇමරිකා එක්සත් ජනපදයේ ප්රාථමික අගනුවර ලෙස රිච්ම...</td>\n",
              "      <td>ඩේවිස් මන්දිරයේ තවත් නමක් කුමක්ද</td>\n",
              "      <td>සම්මේලනයේ ධවල මන්දිරය</td>\n",
              "      <td>395.0</td>\n",
              "      <td>416.0</td>\n",
              "    </tr>\n",
              "    <tr>\n",
              "      <th>7573</th>\n",
              "      <td>16380</td>\n",
              "      <td>ඉහත උදාහරණයේ දී අනන්යතාවය සහ භ්රමණයන් උප සමූහය...</td>\n",
              "      <td>භ්රමණයන් දෙකකින් සමන්විත වන්නේ කුමක්ද</td>\n",
              "      <td>භ්රමණය</td>\n",
              "      <td>29.0</td>\n",
              "      <td>35.0</td>\n",
              "    </tr>\n",
              "    <tr>\n",
              "      <th>7574</th>\n",
              "      <td>16383</td>\n",
              "      <td>2008 මාර්තු සිට 2008 මැයි දක්වා 2008 අගෝස්තු ද...</td>\n",
              "      <td>NaN</td>\n",
              "      <td>NaN</td>\n",
              "      <td>NaN</td>\n",
              "      <td>NaN</td>\n",
              "    </tr>\n",
              "  </tbody>\n",
              "</table>\n",
              "<p>7575 rows × 6 columns</p>\n",
              "</div>"
            ],
            "text/plain": [
              "         id                                            context  ...  start    end\n",
              "0         0  උතුරු අත්ලාන්තික් සාගරයේ බොස්ටන්හි වෙරළබඩ පිහි...  ...    0.0   17.0\n",
              "1         4  ටුවාලුආන් භාෂාව සහ ඉංග්රීසි යනු ටුවාලු හි ජාති...  ...   56.0   66.0\n",
              "2         8  ජේන් ඔස්ටන් ප්රධාන තදාසන්න ප්රදේශ අතර නිරිත දෙ...  ...   51.0   62.0\n",
              "3         9  දෙවන ලෝක යුද්ධයෙන් පසු ජර්මනිය මිත්ර පාක්ෂිකයන...  ...  326.0  328.0\n",
              "4        21  නැපෝලියන් පශ්චාත් විප්ලවවාදී ප්රංශයේ අවනීතිය ස...  ...  157.0  171.0\n",
              "...     ...                                                ...  ...    ...    ...\n",
              "7570  16375  2003 දී ඉම්පීරියල් ආයතනයට ප්රිවි කවුන්සිලය විස...  ...    0.0    4.0\n",
              "7571  16378  18 19 සහ 20 වන සියවස් වලදී බොහෝ ප්රාන්තවල වැරද...  ...  376.0  475.0\n",
              "7572  16379  ඇමරිකා එක්සත් ජනපදයේ ප්රාථමික අගනුවර ලෙස රිච්ම...  ...  395.0  416.0\n",
              "7573  16380  ඉහත උදාහරණයේ දී අනන්යතාවය සහ භ්රමණයන් උප සමූහය...  ...   29.0   35.0\n",
              "7574  16383  2008 මාර්තු සිට 2008 මැයි දක්වා 2008 අගෝස්තු ද...  ...    NaN    NaN\n",
              "\n",
              "[7575 rows x 6 columns]"
            ]
          },
          "metadata": {
            "tags": []
          },
          "execution_count": 15
        }
      ]
    },
    {
      "cell_type": "code",
      "metadata": {
        "colab": {
          "base_uri": "https://localhost:8080/",
          "height": 406
        },
        "id": "m1yCSLa9bfQl",
        "outputId": "5173048c-e70d-4949-a34c-1bb06e095417"
      },
      "source": [
        "label=[]\n",
        "for i in range(0,len(df['id'])):\n",
        "  lis=[df['start'][i],df['end'][i]]\n",
        "  label.append(lis) \n",
        "\n",
        "df['label_idx']=label\n",
        "df"
      ],
      "execution_count": 18,
      "outputs": [
        {
          "output_type": "execute_result",
          "data": {
            "text/html": [
              "<div>\n",
              "<style scoped>\n",
              "    .dataframe tbody tr th:only-of-type {\n",
              "        vertical-align: middle;\n",
              "    }\n",
              "\n",
              "    .dataframe tbody tr th {\n",
              "        vertical-align: top;\n",
              "    }\n",
              "\n",
              "    .dataframe thead th {\n",
              "        text-align: right;\n",
              "    }\n",
              "</style>\n",
              "<table border=\"1\" class=\"dataframe\">\n",
              "  <thead>\n",
              "    <tr style=\"text-align: right;\">\n",
              "      <th></th>\n",
              "      <th>id</th>\n",
              "      <th>context</th>\n",
              "      <th>question</th>\n",
              "      <th>answer</th>\n",
              "      <th>start</th>\n",
              "      <th>end</th>\n",
              "      <th>label_idx</th>\n",
              "    </tr>\n",
              "  </thead>\n",
              "  <tbody>\n",
              "    <tr>\n",
              "      <th>0</th>\n",
              "      <td>0</td>\n",
              "      <td>උතුරු අත්ලාන්තික් සාගරයේ බොස්ටන්හි වෙරළබඩ පිහි...</td>\n",
              "      <td>බොස්ටන් පිහිටා ඇත්තේ කුමන වෙරළ තීරයේද</td>\n",
              "      <td>උතුරු අත්ලාන්තික්</td>\n",
              "      <td>0.0</td>\n",
              "      <td>17.0</td>\n",
              "      <td>[0.0, 17.0]</td>\n",
              "    </tr>\n",
              "    <tr>\n",
              "      <th>1</th>\n",
              "      <td>4</td>\n",
              "      <td>ටුවාලුආන් භාෂාව සහ ඉංග්රීසි යනු ටුවාලු හි ජාති...</td>\n",
              "      <td>ඉංග්රීසි හැරුණු විට ටුවාලු හි ජාතික භාෂාව කුමක්ද</td>\n",
              "      <td>ටුවාලුවාන්</td>\n",
              "      <td>56.0</td>\n",
              "      <td>66.0</td>\n",
              "      <td>[56.0, 66.0]</td>\n",
              "    </tr>\n",
              "    <tr>\n",
              "      <th>2</th>\n",
              "      <td>8</td>\n",
              "      <td>ජේන් ඔස්ටන් ප්රධාන තදාසන්න ප්රදේශ අතර නිරිත දෙ...</td>\n",
              "      <td>රිච්මන්ඩ් හි නිරිතදිග තදාසන්න ප්රදේශය කුමක්ද</td>\n",
              "      <td>මිඩ්ලෝතියන්</td>\n",
              "      <td>51.0</td>\n",
              "      <td>62.0</td>\n",
              "      <td>[51.0, 62.0]</td>\n",
              "    </tr>\n",
              "    <tr>\n",
              "      <th>3</th>\n",
              "      <td>9</td>\n",
              "      <td>දෙවන ලෝක යුද්ධයෙන් පසු ජර්මනිය මිත්ර පාක්ෂිකයන...</td>\n",
              "      <td>දෙවන ලෝක යුද්ධයෙන් පසු ජර්මනියේ මුලින් ප්රාන්ත...</td>\n",
              "      <td>හත</td>\n",
              "      <td>326.0</td>\n",
              "      <td>328.0</td>\n",
              "      <td>[326.0, 328.0]</td>\n",
              "    </tr>\n",
              "    <tr>\n",
              "      <th>4</th>\n",
              "      <td>21</td>\n",
              "      <td>නැපෝලියන් පශ්චාත් විප්ලවවාදී ප්රංශයේ අවනීතිය ස...</td>\n",
              "      <td>දහස් ගණනකට යුද්ධය හා මරණය පිළිබඳ අපේක්ෂාවෙන් න...</td>\n",
              "      <td>ඔහුගේ විවේචකයෝ</td>\n",
              "      <td>157.0</td>\n",
              "      <td>171.0</td>\n",
              "      <td>[157.0, 171.0]</td>\n",
              "    </tr>\n",
              "    <tr>\n",
              "      <th>...</th>\n",
              "      <td>...</td>\n",
              "      <td>...</td>\n",
              "      <td>...</td>\n",
              "      <td>...</td>\n",
              "      <td>...</td>\n",
              "      <td>...</td>\n",
              "      <td>...</td>\n",
              "    </tr>\n",
              "    <tr>\n",
              "      <th>7570</th>\n",
              "      <td>16375</td>\n",
              "      <td>2003 දී ඉම්පීරියල් ආයතනයට ප්රිවි කවුන්සිලය විස...</td>\n",
              "      <td>නැනෝ තාක්ෂණය සඳහා ලන්ඩන් මධ්යස්ථානය පිහිටුවන ල...</td>\n",
              "      <td>2003</td>\n",
              "      <td>0.0</td>\n",
              "      <td>4.0</td>\n",
              "      <td>[0.0, 4.0]</td>\n",
              "    </tr>\n",
              "    <tr>\n",
              "      <th>7571</th>\n",
              "      <td>16378</td>\n",
              "      <td>18 19 සහ 20 වන සියවස් වලදී බොහෝ ප්රාන්තවල වැරද...</td>\n",
              "      <td>එක්සත් ජනපදයේ සුදු ජාතිකයින් සහ ආසියානුවන් අතර...</td>\n",
              "      <td>සුදු නීති සම්පාදකයින් 1950 සහ යුරෝපීය හා ආසියා...</td>\n",
              "      <td>376.0</td>\n",
              "      <td>475.0</td>\n",
              "      <td>[376.0, 475.0]</td>\n",
              "    </tr>\n",
              "    <tr>\n",
              "      <th>7572</th>\n",
              "      <td>16379</td>\n",
              "      <td>ඇමරිකා එක්සත් ජනපදයේ ප්රාථමික අගනුවර ලෙස රිච්ම...</td>\n",
              "      <td>ඩේවිස් මන්දිරයේ තවත් නමක් කුමක්ද</td>\n",
              "      <td>සම්මේලනයේ ධවල මන්දිරය</td>\n",
              "      <td>395.0</td>\n",
              "      <td>416.0</td>\n",
              "      <td>[395.0, 416.0]</td>\n",
              "    </tr>\n",
              "    <tr>\n",
              "      <th>7573</th>\n",
              "      <td>16380</td>\n",
              "      <td>ඉහත උදාහරණයේ දී අනන්යතාවය සහ භ්රමණයන් උප සමූහය...</td>\n",
              "      <td>භ්රමණයන් දෙකකින් සමන්විත වන්නේ කුමක්ද</td>\n",
              "      <td>භ්රමණය</td>\n",
              "      <td>29.0</td>\n",
              "      <td>35.0</td>\n",
              "      <td>[29.0, 35.0]</td>\n",
              "    </tr>\n",
              "    <tr>\n",
              "      <th>7574</th>\n",
              "      <td>16383</td>\n",
              "      <td>2008 මාර්තු සිට 2008 මැයි දක්වා 2008 අගෝස්තු ද...</td>\n",
              "      <td>NaN</td>\n",
              "      <td>NaN</td>\n",
              "      <td>NaN</td>\n",
              "      <td>NaN</td>\n",
              "      <td>[nan, nan]</td>\n",
              "    </tr>\n",
              "  </tbody>\n",
              "</table>\n",
              "<p>7575 rows × 7 columns</p>\n",
              "</div>"
            ],
            "text/plain": [
              "         id  ...       label_idx\n",
              "0         0  ...     [0.0, 17.0]\n",
              "1         4  ...    [56.0, 66.0]\n",
              "2         8  ...    [51.0, 62.0]\n",
              "3         9  ...  [326.0, 328.0]\n",
              "4        21  ...  [157.0, 171.0]\n",
              "...     ...  ...             ...\n",
              "7570  16375  ...      [0.0, 4.0]\n",
              "7571  16378  ...  [376.0, 475.0]\n",
              "7572  16379  ...  [395.0, 416.0]\n",
              "7573  16380  ...    [29.0, 35.0]\n",
              "7574  16383  ...      [nan, nan]\n",
              "\n",
              "[7575 rows x 7 columns]"
            ]
          },
          "metadata": {
            "tags": []
          },
          "execution_count": 18
        }
      ]
    },
    {
      "cell_type": "code",
      "metadata": {
        "id": "KnIfs_LWSmJ8"
      },
      "source": [
        "msk = np.random.rand(len(df)) < 0.90661835\n",
        "train_df = df[msk]\n",
        "train_df=train_df.reset_index()\n",
        "valid_df = df[~msk]\n",
        "valid_df=valid_df.reset_index()"
      ],
      "execution_count": 19,
      "outputs": []
    },
    {
      "cell_type": "code",
      "metadata": {
        "id": "mFlPlVkwS8Mf",
        "colab": {
          "base_uri": "https://localhost:8080/"
        },
        "outputId": "8c90ad93-a006-45c5-a409-8651268da199"
      },
      "source": [
        "print(len(train_df))\n",
        "print(len(valid_df))\n"
      ],
      "execution_count": 20,
      "outputs": [
        {
          "output_type": "stream",
          "text": [
            "6839\n",
            "736\n"
          ],
          "name": "stdout"
        }
      ]
    },
    {
      "cell_type": "markdown",
      "metadata": {
        "id": "nI-NRNIxEg5H"
      },
      "source": [
        "# **Data Preprocessing**"
      ]
    },
    {
      "cell_type": "code",
      "metadata": {
        "id": "RFHZE1GfERsR"
      },
      "source": [
        "from torch import nn\n",
        "import torch\n",
        "import numpy as np\n",
        "import pandas as pd\n",
        "import pickle, time\n",
        "import re, os, string, typing, gc, json\n",
        "import torch.nn.functional as F\n",
        "import spacy\n",
        "from sklearn.model_selection import train_test_split\n",
        "from collections import Counter\n",
        "nlp = spacy.load('en')\n",
        "%load_ext autoreload\n",
        "%autoreload 2"
      ],
      "execution_count": 21,
      "outputs": []
    },
    {
      "cell_type": "markdown",
      "metadata": {
        "id": "yX8yD9GFtL9q"
      },
      "source": [
        "**Gather text for create word vocabulary using the full dataset**"
      ]
    },
    {
      "cell_type": "code",
      "metadata": {
        "id": "7vcxFcLoEpFu",
        "colab": {
          "base_uri": "https://localhost:8080/"
        },
        "outputId": "f51d32dd-ea0b-43a3-8379-ccd86a5afad3"
      },
      "source": [
        "lis,c,q,a = gather_text_for_vocab(data)\n",
        "\n",
        "vocab_text=lis\n",
        "print(\"Number of sentences in dataset: \", len(vocab_text))"
      ],
      "execution_count": 22,
      "outputs": [
        {
          "output_type": "stream",
          "text": [
            "Number of sentences in dataset:  40000\n"
          ],
          "name": "stdout"
        }
      ]
    },
    {
      "cell_type": "markdown",
      "metadata": {
        "id": "UeQQaDcFtUqb"
      },
      "source": [
        "**Word-index mapping , index-word mapping , word vocabulary**"
      ]
    },
    {
      "cell_type": "code",
      "metadata": {
        "id": "e_NxxDcKccyi"
      },
      "source": [
        "word2idx, idx2word, word_vocab = build_word_vocab(vocab_text)"
      ],
      "execution_count": 79,
      "outputs": []
    },
    {
      "cell_type": "markdown",
      "metadata": {
        "id": "BNaBXNEBthgE"
      },
      "source": [
        "**Character-index mapping , character vocabulary**"
      ]
    },
    {
      "cell_type": "code",
      "metadata": {
        "id": "W-SCA_edcduh",
        "colab": {
          "base_uri": "https://localhost:8080/"
        },
        "outputId": "02b6b99a-6b6b-4bb6-925b-30751a51896d"
      },
      "source": [
        "char2idx, char_vocab = build_char_vocab(vocab_text)"
      ],
      "execution_count": 80,
      "outputs": [
        {
          "output_type": "stream",
          "text": [
            "raw-char-vocab: 794\n",
            "char-vocab-intersect: 191\n",
            "char2idx-length: 193\n"
          ],
          "name": "stdout"
        }
      ]
    },
    {
      "cell_type": "markdown",
      "metadata": {
        "id": "wlWkjoeaty2K"
      },
      "source": [
        "**Creating context and question id's for training dataset**"
      ]
    },
    {
      "cell_type": "code",
      "metadata": {
        "id": "ikYIXUNwk3sz"
      },
      "source": [
        "q=0\n",
        "context_ids_train=[]\n",
        "for i in range(0,len(train_df['context'])):\n",
        "    try:                                                        \n",
        "        ids = context_to_ids(train_df['context'][i] , word2idx)\n",
        "        context_ids_train.append(ids)\n",
        "        \n",
        "    except Exception as e:\n",
        "        context_ids_train.append(e)\n",
        "        q=q+1\n",
        "        continue"
      ],
      "execution_count": 25,
      "outputs": []
    },
    {
      "cell_type": "code",
      "metadata": {
        "id": "4mKzOYRVcHXH"
      },
      "source": [
        "r=0\n",
        "question_ids_train=[]\n",
        "for i in range(0,len(train_df['question'])):\n",
        "    try:                                                        \n",
        "        ids = question_to_ids(train_df['question'][i] , word2idx)\n",
        "        question_ids_train.append(ids)\n",
        "        \n",
        "    except Exception as e:\n",
        "        question_ids_train.append(e)\n",
        "        r=r+1\n",
        "        continue"
      ],
      "execution_count": 26,
      "outputs": []
    },
    {
      "cell_type": "code",
      "metadata": {
        "id": "3hXcFG0xZPYY"
      },
      "source": [
        "w=0\n",
        "answer_ids_train=[]\n",
        "for i in range(0,len(train_df['question'])):\n",
        "    try:                                                        \n",
        "        ids = answer_to_ids(train_df['answer'][i] , word2idx)\n",
        "        answer_ids_train.append(ids)\n",
        "        \n",
        "    except Exception as e:\n",
        "        answer_ids_train.append(e)\n",
        "        w=w+1\n",
        "        continue"
      ],
      "execution_count": 27,
      "outputs": []
    },
    {
      "cell_type": "markdown",
      "metadata": {
        "id": "sdiiCgRXuA09"
      },
      "source": [
        "**Creating context and question id's for validation dataset**"
      ]
    },
    {
      "cell_type": "code",
      "metadata": {
        "id": "83_2RuTHnyBI"
      },
      "source": [
        "p=0\n",
        "context_ids_valid=[]\n",
        "for i in range(0,len(valid_df['context'])):\n",
        "    try:                                                        \n",
        "        ids = context_to_ids(valid_df['context'][i] , word2idx)\n",
        "        context_ids_valid.append(ids)\n",
        "        \n",
        "    except Exception as e:\n",
        "        context_ids_valid.append(e)\n",
        "        p=p+1\n",
        "        continue"
      ],
      "execution_count": 28,
      "outputs": []
    },
    {
      "cell_type": "code",
      "metadata": {
        "id": "lkag_49xooGG"
      },
      "source": [
        "s=0\n",
        "question_ids_valid=[]\n",
        "for i in range(0,len(valid_df['question'])):\n",
        "    try:                                                        \n",
        "        ids = question_to_ids(valid_df['question'][i] , word2idx)\n",
        "        question_ids_valid.append(ids)\n",
        "        \n",
        "    except Exception as e:\n",
        "        question_ids_valid.append(e)\n",
        "        s=s+1\n",
        "        continue"
      ],
      "execution_count": 29,
      "outputs": []
    },
    {
      "cell_type": "code",
      "metadata": {
        "id": "TIdH7McNZnHC"
      },
      "source": [
        "v=0\n",
        "answer_ids_valid=[]\n",
        "for i in range(0,len(valid_df['question'])):\n",
        "    try:                                                        \n",
        "        ids = answer_to_ids(valid_df['answer'][i] , word2idx)\n",
        "        answer_ids_valid.append(ids)\n",
        "        \n",
        "    except Exception as e:\n",
        "        answer_ids_valid.append(e)\n",
        "        v=v+1\n",
        "        continue"
      ],
      "execution_count": 30,
      "outputs": []
    },
    {
      "cell_type": "markdown",
      "metadata": {
        "id": "oLNYBjPEuRMl"
      },
      "source": [
        "**Adding context,question id rows to train and valid datasets**"
      ]
    },
    {
      "cell_type": "code",
      "metadata": {
        "id": "6ngTygxmqz3b"
      },
      "source": [
        "train_df['context_ids'] = context_ids_train\n",
        "train_df['question_ids'] = question_ids_train\n"
      ],
      "execution_count": 31,
      "outputs": []
    },
    {
      "cell_type": "code",
      "metadata": {
        "id": "nF-DDqACrW0A"
      },
      "source": [
        "valid_df['context_ids'] = context_ids_valid\n",
        "valid_df['question_ids'] = question_ids_valid\n"
      ],
      "execution_count": 32,
      "outputs": []
    },
    {
      "cell_type": "code",
      "metadata": {
        "id": "zvkuFFQsryXq"
      },
      "source": [
        "train_df.to_pickle('bidaftrain.pkl')\n",
        "valid_df.to_pickle('bidafvalid.pkl')\n",
        "\n",
        "with open('bidafw2id.pickle','wb') as handle:\n",
        "    pickle.dump(word2idx, handle)\n",
        "\n",
        "with open('bidafc2id.pickle','wb') as handle:\n",
        "    pickle.dump(char2idx, handle)\n"
      ],
      "execution_count": 33,
      "outputs": []
    },
    {
      "cell_type": "code",
      "metadata": {
        "id": "NdSX-zSwCjrI"
      },
      "source": [
        "train_df = pd.read_pickle('bidaftrain.pkl')\n",
        "valid_df = pd.read_pickle('bidafvalid.pkl')\n",
        "\n",
        "with open('bidafw2id.pickle','rb') as handle:\n",
        "    word2idx = pickle.load(handle)\n",
        "with open('bidafc2id.pickle','rb') as handle:\n",
        "    char2idx = pickle.load(handle)\n",
        "\n",
        "idx2word = {v:k for k,v in word2idx.items()}"
      ],
      "execution_count": 34,
      "outputs": []
    },
    {
      "cell_type": "code",
      "metadata": {
        "id": "3Ox3g94YWMnD"
      },
      "source": [
        "class SquadDataset:\n",
        "    '''\n",
        "    - Creates batches dynamically by padding to the length of largest example\n",
        "      in a given batch.\n",
        "    - Calulates character vectors for contexts and question.\n",
        "    - Returns tensors for training.\n",
        "    '''\n",
        "    \n",
        "    def __init__(self, data, batch_size):\n",
        "        \n",
        "        self.batch_size = batch_size\n",
        "        data = [data[i:i+self.batch_size] for i in range(0, len(data), self.batch_size)]\n",
        "        self.data = data\n",
        "        \n",
        "        \n",
        "    def __len__(self):\n",
        "        return len(self.data)\n",
        "    \n",
        "    def make_char_vector(self, max_sent_len, max_word_len, sentence):\n",
        "        \n",
        "        char_vec = torch.ones(max_sent_len, max_word_len).type(torch.LongTensor)\n",
        "        \n",
        "        for i, word in enumerate(nlp(sentence, disable=['parser','tagger','ner'])):\n",
        "            for j, ch in enumerate(word.text):\n",
        "                char_vec[i][j] = char2idx.get(ch, 0)\n",
        "        \n",
        "        return char_vec    \n",
        "    \n",
        "    def get_span(self, text):\n",
        "        \n",
        "        text = nlp(text, disable=['parser','tagger','ner'])\n",
        "        span = [(w.idx, w.idx+len(w.text)) for w in text]\n",
        "\n",
        "        return span\n",
        "\n",
        "    def __iter__(self):\n",
        "        '''\n",
        "        Creates batches of data and yields them.\n",
        "        \n",
        "        Each yield comprises of:\n",
        "        :padded_context: padded tensor of contexts for each batch \n",
        "        :padded_question: padded tensor of questions for each batch \n",
        "        :char_ctx & ques_ctx: character-level ids for context and question\n",
        "        :label: start and end index wrt context_ids\n",
        "        :context_text,answer_text: used while validation to calculate metrics\n",
        "        :ids: question_ids for evaluation\n",
        "        \n",
        "        '''\n",
        "        \n",
        "        for batch in self.data:\n",
        "            \n",
        "            spans = []\n",
        "            ctx_text = []\n",
        "            answer_text = []\n",
        "            \n",
        "            for ctx in batch.context:\n",
        "                ctx_text.append(ctx)\n",
        "                spans.append(self.get_span(ctx))\n",
        "            \n",
        "            for ans in batch.answer:\n",
        "                answer_text.append(ans)\n",
        "                \n",
        "            \n",
        "            max_context_len = max([len(ctx) for ctx in batch.context_ids])\n",
        "            padded_context = torch.LongTensor(len(batch), max_context_len).fill_(1)\n",
        "            \n",
        "            for i, ctx in enumerate(batch.context_ids):\n",
        "                padded_context[i, :len(ctx)] = torch.LongTensor(ctx)\n",
        "\n",
        "            max_word_ctx = 0\n",
        "            for context in batch.context:\n",
        "                for word in nlp(context, disable=['parser','tagger','ner']):\n",
        "                    if len(word.text) > max_word_ctx:\n",
        "                        max_word_ctx = len(word.text)\n",
        "            \n",
        "            char_ctx = torch.ones(len(batch), max_context_len, max_word_ctx).type(torch.LongTensor)\n",
        "            for i, context in enumerate(batch.context):\n",
        "                char_ctx[i] = self.make_char_vector(max_context_len, max_word_ctx, context)\n",
        "            \n",
        "            max_question_len = max([len(ques) for ques in batch.question_ids])\n",
        "            padded_question = torch.LongTensor(len(batch), max_question_len).fill_(1)\n",
        "            \n",
        "            for i, ques in enumerate(batch.question_ids):\n",
        "                padded_question[i, :len(ques)] = torch.LongTensor(ques)\n",
        "                \n",
        "            max_word_ques = 0\n",
        "            for question in batch.question:\n",
        "                for word in nlp(question, disable=['parser','tagger','ner']):\n",
        "                    if len(word.text) > max_word_ques:\n",
        "                        max_word_ques = len(word.text)\n",
        "            \n",
        "            char_ques = torch.ones(len(batch), max_question_len, max_word_ques).type(torch.LongTensor)\n",
        "            for i, question in enumerate(batch.question):\n",
        "                char_ques[i] = self.make_char_vector(max_question_len, max_word_ques, question)\n",
        "            \n",
        "            ids = list(batch.id)  \n",
        "            label = torch.LongTensor(list(batch.label_idx))\n",
        "            \n",
        "            yield (padded_context, padded_question, char_ctx, char_ques, label, ctx_text, answer_text, ids)"
      ],
      "execution_count": 35,
      "outputs": []
    },
    {
      "cell_type": "code",
      "metadata": {
        "id": "IT-ZvRcyD2G3"
      },
      "source": [
        "train_dataset = SquadDataset(train_df, 16)"
      ],
      "execution_count": 36,
      "outputs": []
    },
    {
      "cell_type": "code",
      "metadata": {
        "id": "lCqtoribD6h7"
      },
      "source": [
        "valid_dataset = SquadDataset(valid_df, 16)"
      ],
      "execution_count": 37,
      "outputs": []
    },
    {
      "cell_type": "code",
      "metadata": {
        "id": "XcwEqt_tD81x"
      },
      "source": [
        "a = next(iter(train_dataset))"
      ],
      "execution_count": 38,
      "outputs": []
    },
    {
      "cell_type": "markdown",
      "metadata": {
        "id": "5zIrhAA2vcS4"
      },
      "source": [
        "# **Start of layers**"
      ]
    },
    {
      "cell_type": "code",
      "metadata": {
        "id": "Pk0BJEFAsHsF",
        "colab": {
          "base_uri": "https://localhost:8080/"
        },
        "outputId": "268a2928-7afd-419e-b5a7-b55d3735da4f"
      },
      "source": [
        "!pip install PyDrive"
      ],
      "execution_count": 39,
      "outputs": [
        {
          "output_type": "stream",
          "text": [
            "Requirement already satisfied: PyDrive in /usr/local/lib/python3.6/dist-packages (1.3.1)\n",
            "Requirement already satisfied: oauth2client>=4.0.0 in /usr/local/lib/python3.6/dist-packages (from PyDrive) (4.1.3)\n",
            "Requirement already satisfied: PyYAML>=3.0 in /usr/local/lib/python3.6/dist-packages (from PyDrive) (3.13)\n",
            "Requirement already satisfied: google-api-python-client>=1.2 in /usr/local/lib/python3.6/dist-packages (from PyDrive) (1.7.12)\n",
            "Requirement already satisfied: rsa>=3.1.4 in /usr/local/lib/python3.6/dist-packages (from oauth2client>=4.0.0->PyDrive) (4.6)\n",
            "Requirement already satisfied: httplib2>=0.9.1 in /usr/local/lib/python3.6/dist-packages (from oauth2client>=4.0.0->PyDrive) (0.17.4)\n",
            "Requirement already satisfied: six>=1.6.1 in /usr/local/lib/python3.6/dist-packages (from oauth2client>=4.0.0->PyDrive) (1.15.0)\n",
            "Requirement already satisfied: pyasn1-modules>=0.0.5 in /usr/local/lib/python3.6/dist-packages (from oauth2client>=4.0.0->PyDrive) (0.2.8)\n",
            "Requirement already satisfied: pyasn1>=0.1.7 in /usr/local/lib/python3.6/dist-packages (from oauth2client>=4.0.0->PyDrive) (0.4.8)\n",
            "Requirement already satisfied: uritemplate<4dev,>=3.0.0 in /usr/local/lib/python3.6/dist-packages (from google-api-python-client>=1.2->PyDrive) (3.0.1)\n",
            "Requirement already satisfied: google-auth-httplib2>=0.0.3 in /usr/local/lib/python3.6/dist-packages (from google-api-python-client>=1.2->PyDrive) (0.0.4)\n",
            "Requirement already satisfied: google-auth>=1.4.1 in /usr/local/lib/python3.6/dist-packages (from google-api-python-client>=1.2->PyDrive) (1.17.2)\n",
            "Requirement already satisfied: cachetools<5.0,>=2.0.0 in /usr/local/lib/python3.6/dist-packages (from google-auth>=1.4.1->google-api-python-client>=1.2->PyDrive) (4.1.1)\n",
            "Requirement already satisfied: setuptools>=40.3.0 in /usr/local/lib/python3.6/dist-packages (from google-auth>=1.4.1->google-api-python-client>=1.2->PyDrive) (50.3.2)\n"
          ],
          "name": "stdout"
        }
      ]
    },
    {
      "cell_type": "code",
      "metadata": {
        "id": "P7OMaKJpsR1e"
      },
      "source": [
        "from pydrive.auth import GoogleAuth\n",
        "from pydrive.drive import GoogleDrive\n",
        "from google.colab import auth\n",
        "from oauth2client.client import GoogleCredentials"
      ],
      "execution_count": 40,
      "outputs": []
    },
    {
      "cell_type": "code",
      "metadata": {
        "id": "cPkf79YxsWQh"
      },
      "source": [
        "auth.authenticate_user()\n",
        "gauth = GoogleAuth()\n",
        "gauth.credentials = GoogleCredentials.get_application_default()\n",
        "drive = GoogleDrive(gauth)"
      ],
      "execution_count": 41,
      "outputs": []
    },
    {
      "cell_type": "code",
      "metadata": {
        "id": "sPyMRWJjsi7I"
      },
      "source": [
        "downloaded = drive.CreateFile({'id':\"1Rr1mgeyu7V7xv5Z5CgYsPVzaTBfWZ08s\"})  \n",
        "downloaded.GetContentFile('cc.si.300.vec')    "
      ],
      "execution_count": 42,
      "outputs": []
    },
    {
      "cell_type": "code",
      "metadata": {
        "id": "G02hSvgFbB8i"
      },
      "source": [
        "with open(\"cc.si.300.vec\", \"r\") as f:\n",
        "    array = []\n",
        "    for line in f:\n",
        "        array.append(line)"
      ],
      "execution_count": 43,
      "outputs": []
    },
    {
      "cell_type": "code",
      "metadata": {
        "id": "aObbD8XTth5M"
      },
      "source": [
        "\n",
        "def get_fastText_dict():\n",
        "    '''\n",
        "    Parses the glove word vectors text file and returns a dictionary with the words as\n",
        "    keys and their respective pretrained word vectors as values.\n",
        "\n",
        "    '''\n",
        "    fastText_dict = {}\n",
        "    with open(\"cc.si.300.vec\", \"r\", encoding=\"utf-8\") as f:\n",
        "        for line in f:\n",
        "            values = line.split()\n",
        "            word = values[0]\n",
        "            vector = np.asarray(values[1:], \"float32\")\n",
        "            fastText_dict[word] = vector\n",
        "            \n",
        "    f.close()\n",
        "    \n",
        "    return fastText_dict"
      ],
      "execution_count": 44,
      "outputs": []
    },
    {
      "cell_type": "code",
      "metadata": {
        "id": "DVA0MEVSt1fr"
      },
      "source": [
        "fastText_dict = get_fastText_dict()"
      ],
      "execution_count": 45,
      "outputs": []
    },
    {
      "cell_type": "code",
      "metadata": {
        "colab": {
          "base_uri": "https://localhost:8080/"
        },
        "id": "f8N8e2q_ouhk",
        "outputId": "7d31e96f-8a1a-41fe-945f-240629e0cebe"
      },
      "source": [
        "type(fastText_dict)"
      ],
      "execution_count": 52,
      "outputs": [
        {
          "output_type": "execute_result",
          "data": {
            "text/plain": [
              "dict"
            ]
          },
          "metadata": {
            "tags": []
          },
          "execution_count": 52
        }
      ]
    },
    {
      "cell_type": "code",
      "metadata": {
        "id": "JoJ7MP-knJCK"
      },
      "source": [
        "\n",
        "def create_weights_matrix(fastText_dict):\n",
        "    '''\n",
        "    Creates a weight matrix of the words that are common in the fastText vocab and\n",
        "    the dataset's vocab. Initializes OOV words with a zero vector.\n",
        "    '''\n",
        "    weights=[]\n",
        "    #weights_matrix = np.zeros((len(word_vocab), 300))\n",
        "    words_found = 0\n",
        "    for word in word_vocab:\n",
        "        # try:\n",
        "          w=fastText_dict[word]\n",
        "          weights.append(w)\n",
        "\n",
        "        #weights_matrix[i] = fastText_dict[word]\n",
        "          words_found += 1\n",
        "        # except:\n",
        "        #    pass\n",
        "        \n",
        "    # return weights_matrix, words_found\n",
        "    return weights,words_found"
      ],
      "execution_count": 71,
      "outputs": []
    },
    {
      "cell_type": "code",
      "metadata": {
        "id": "XOXzKeUdnb0P"
      },
      "source": [
        "def create_weights_matrix(glove_dict):\n",
        "    '''\n",
        "    Creates a weight matrix of the words that are common in the GloVe vocab and\n",
        "    the dataset's vocab. Initializes OOV words with a zero vector.\n",
        "    '''\n",
        "    weights_matrix = np.zeros((len(word_vocab), 300))\n",
        "    words_found = 0\n",
        "    for i, word in enumerate(word_vocab):\n",
        "        try:\n",
        "            weights_matrix[i] = glove_dict[word]\n",
        "            words_found += 1\n",
        "        except:\n",
        "            pass\n",
        "        \n",
        "    return weights_matrix, words_found"
      ],
      "execution_count": 89,
      "outputs": []
    },
    {
      "cell_type": "code",
      "metadata": {
        "id": "yKilu5BIh-8F",
        "outputId": "3a60d23f-3649-4c5a-dea0-aa39711665ef",
        "colab": {
          "base_uri": "https://localhost:8080/"
        }
      },
      "source": [
        "\n",
        "weights_matrix, words_found = create_weights_matrix(fastText_dict)\n",
        "print(\"Words found in the GloVe vocab: \" ,words_found)"
      ],
      "execution_count": 90,
      "outputs": [
        {
          "output_type": "stream",
          "text": [
            "Words found in the GloVe vocab:  43563\n"
          ],
          "name": "stdout"
        }
      ]
    },
    {
      "cell_type": "code",
      "metadata": {
        "id": "syJfUu5Ln5pA",
        "outputId": "03f7351b-8431-4869-dd35-67e2b3d5cd6e",
        "colab": {
          "base_uri": "https://localhost:8080/"
        }
      },
      "source": [
        "len(word_vocab)"
      ],
      "execution_count": 91,
      "outputs": [
        {
          "output_type": "execute_result",
          "data": {
            "text/plain": [
              "85812"
            ]
          },
          "metadata": {
            "tags": []
          },
          "execution_count": 91
        }
      ]
    },
    {
      "cell_type": "code",
      "metadata": {
        "id": "fiHLvr1zWVwz"
      },
      "source": [
        ""
      ],
      "execution_count": 57,
      "outputs": []
    }
  ]
}